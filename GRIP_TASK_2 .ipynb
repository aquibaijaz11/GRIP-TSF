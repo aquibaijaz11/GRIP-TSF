{
  "nbformat": 4,
  "nbformat_minor": 0,
  "metadata": {
    "colab": {
      "name": "GRIP_TASK_2.ipynb",
      "provenance": [],
      "collapsed_sections": [],
      "toc_visible": true
    },
    "kernelspec": {
      "display_name": "Python 3",
      "language": "python",
      "name": "python3"
    },
    "language_info": {
      "codemirror_mode": {
        "name": "ipython",
        "version": 3
      },
      "file_extension": ".py",
      "mimetype": "text/x-python",
      "name": "python",
      "nbconvert_exporter": "python",
      "pygments_lexer": "ipython3",
      "version": "3.7.6"
    }
  },
  "cells": [
    {
      "cell_type": "markdown",
      "metadata": {
        "colab_type": "text",
        "id": "wj7Wfh3kUHNf"
      },
      "source": [
        "# **GRIP The Sparks Foundation : TASK 2**\n",
        "\n",
        "Applying Regression Models to predict the percentage of marks that a student is expected to score based upon the number of hours they studied.\n"
      ]
    },
    {
      "cell_type": "markdown",
      "metadata": {
        "colab_type": "text",
        "id": "Aqrx67H5UL7G"
      },
      "source": [
        "# Importing the Libraries"
      ]
    },
    {
      "cell_type": "code",
      "metadata": {
        "colab_type": "code",
        "id": "7G4VAw8mqDc5",
        "colab": {}
      },
      "source": [
        "import numpy as np\n",
        "import matplotlib.pyplot as plt\n",
        "import pandas as pd\n",
        "import seaborn as sns"
      ],
      "execution_count": 741,
      "outputs": []
    },
    {
      "cell_type": "markdown",
      "metadata": {
        "colab_type": "text",
        "id": "LOEx2-9SVO7F"
      },
      "source": [
        "# Importing and Preparing the dataset"
      ]
    },
    {
      "cell_type": "code",
      "metadata": {
        "colab_type": "code",
        "id": "DpRrglx1Vez6",
        "colab": {
          "base_uri": "https://localhost:8080/",
          "height": 824
        },
        "outputId": "98d71e20-a6b5-40a1-b24b-1bd68b8b0aad"
      },
      "source": [
        "dataset = pd.read_csv('http://bit.ly/w-data') \n",
        "X = dataset.iloc[:,:-1].values\n",
        "y = dataset.iloc[:,-1].values\n",
        "dataset"
      ],
      "execution_count": 742,
      "outputs": [
        {
          "output_type": "execute_result",
          "data": {
            "text/html": [
              "<div>\n",
              "<style scoped>\n",
              "    .dataframe tbody tr th:only-of-type {\n",
              "        vertical-align: middle;\n",
              "    }\n",
              "\n",
              "    .dataframe tbody tr th {\n",
              "        vertical-align: top;\n",
              "    }\n",
              "\n",
              "    .dataframe thead th {\n",
              "        text-align: right;\n",
              "    }\n",
              "</style>\n",
              "<table border=\"1\" class=\"dataframe\">\n",
              "  <thead>\n",
              "    <tr style=\"text-align: right;\">\n",
              "      <th></th>\n",
              "      <th>Hours</th>\n",
              "      <th>Scores</th>\n",
              "    </tr>\n",
              "  </thead>\n",
              "  <tbody>\n",
              "    <tr>\n",
              "      <th>0</th>\n",
              "      <td>2.50</td>\n",
              "      <td>21</td>\n",
              "    </tr>\n",
              "    <tr>\n",
              "      <th>1</th>\n",
              "      <td>5.10</td>\n",
              "      <td>47</td>\n",
              "    </tr>\n",
              "    <tr>\n",
              "      <th>2</th>\n",
              "      <td>3.20</td>\n",
              "      <td>27</td>\n",
              "    </tr>\n",
              "    <tr>\n",
              "      <th>3</th>\n",
              "      <td>8.50</td>\n",
              "      <td>75</td>\n",
              "    </tr>\n",
              "    <tr>\n",
              "      <th>4</th>\n",
              "      <td>3.50</td>\n",
              "      <td>30</td>\n",
              "    </tr>\n",
              "    <tr>\n",
              "      <th>5</th>\n",
              "      <td>1.50</td>\n",
              "      <td>20</td>\n",
              "    </tr>\n",
              "    <tr>\n",
              "      <th>6</th>\n",
              "      <td>9.20</td>\n",
              "      <td>88</td>\n",
              "    </tr>\n",
              "    <tr>\n",
              "      <th>7</th>\n",
              "      <td>5.50</td>\n",
              "      <td>60</td>\n",
              "    </tr>\n",
              "    <tr>\n",
              "      <th>8</th>\n",
              "      <td>8.30</td>\n",
              "      <td>81</td>\n",
              "    </tr>\n",
              "    <tr>\n",
              "      <th>9</th>\n",
              "      <td>2.70</td>\n",
              "      <td>25</td>\n",
              "    </tr>\n",
              "    <tr>\n",
              "      <th>10</th>\n",
              "      <td>7.70</td>\n",
              "      <td>85</td>\n",
              "    </tr>\n",
              "    <tr>\n",
              "      <th>11</th>\n",
              "      <td>5.90</td>\n",
              "      <td>62</td>\n",
              "    </tr>\n",
              "    <tr>\n",
              "      <th>12</th>\n",
              "      <td>4.50</td>\n",
              "      <td>41</td>\n",
              "    </tr>\n",
              "    <tr>\n",
              "      <th>13</th>\n",
              "      <td>3.30</td>\n",
              "      <td>42</td>\n",
              "    </tr>\n",
              "    <tr>\n",
              "      <th>14</th>\n",
              "      <td>1.10</td>\n",
              "      <td>17</td>\n",
              "    </tr>\n",
              "    <tr>\n",
              "      <th>15</th>\n",
              "      <td>8.90</td>\n",
              "      <td>95</td>\n",
              "    </tr>\n",
              "    <tr>\n",
              "      <th>16</th>\n",
              "      <td>2.50</td>\n",
              "      <td>30</td>\n",
              "    </tr>\n",
              "    <tr>\n",
              "      <th>17</th>\n",
              "      <td>1.90</td>\n",
              "      <td>24</td>\n",
              "    </tr>\n",
              "    <tr>\n",
              "      <th>18</th>\n",
              "      <td>6.10</td>\n",
              "      <td>67</td>\n",
              "    </tr>\n",
              "    <tr>\n",
              "      <th>19</th>\n",
              "      <td>7.40</td>\n",
              "      <td>69</td>\n",
              "    </tr>\n",
              "    <tr>\n",
              "      <th>20</th>\n",
              "      <td>2.70</td>\n",
              "      <td>30</td>\n",
              "    </tr>\n",
              "    <tr>\n",
              "      <th>21</th>\n",
              "      <td>4.80</td>\n",
              "      <td>54</td>\n",
              "    </tr>\n",
              "    <tr>\n",
              "      <th>22</th>\n",
              "      <td>3.80</td>\n",
              "      <td>35</td>\n",
              "    </tr>\n",
              "    <tr>\n",
              "      <th>23</th>\n",
              "      <td>6.90</td>\n",
              "      <td>76</td>\n",
              "    </tr>\n",
              "    <tr>\n",
              "      <th>24</th>\n",
              "      <td>7.80</td>\n",
              "      <td>86</td>\n",
              "    </tr>\n",
              "  </tbody>\n",
              "</table>\n",
              "</div>"
            ],
            "text/plain": [
              "    Hours  Scores\n",
              "0    2.50      21\n",
              "1    5.10      47\n",
              "2    3.20      27\n",
              "3    8.50      75\n",
              "4    3.50      30\n",
              "5    1.50      20\n",
              "6    9.20      88\n",
              "7    5.50      60\n",
              "8    8.30      81\n",
              "9    2.70      25\n",
              "10   7.70      85\n",
              "11   5.90      62\n",
              "12   4.50      41\n",
              "13   3.30      42\n",
              "14   1.10      17\n",
              "15   8.90      95\n",
              "16   2.50      30\n",
              "17   1.90      24\n",
              "18   6.10      67\n",
              "19   7.40      69\n",
              "20   2.70      30\n",
              "21   4.80      54\n",
              "22   3.80      35\n",
              "23   6.90      76\n",
              "24   7.80      86"
            ]
          },
          "metadata": {
            "tags": []
          },
          "execution_count": 742
        }
      ]
    },
    {
      "cell_type": "code",
      "metadata": {
        "id": "8hQSOKUyzJ4F",
        "colab_type": "code",
        "colab": {
          "base_uri": "https://localhost:8080/",
          "height": 34
        },
        "outputId": "8e6fe720-8088-4e57-c768-1ce48585a93e"
      },
      "source": [
        "dataset.shape"
      ],
      "execution_count": 743,
      "outputs": [
        {
          "output_type": "execute_result",
          "data": {
            "text/plain": [
              "(25, 2)"
            ]
          },
          "metadata": {
            "tags": []
          },
          "execution_count": 743
        }
      ]
    },
    {
      "cell_type": "code",
      "metadata": {
        "id": "ukknizYizKzn",
        "colab_type": "code",
        "colab": {
          "base_uri": "https://localhost:8080/",
          "height": 204
        },
        "outputId": "2e2fac1a-a5e6-495d-d779-d20579149938"
      },
      "source": [
        "dataset.head()"
      ],
      "execution_count": 744,
      "outputs": [
        {
          "output_type": "execute_result",
          "data": {
            "text/html": [
              "<div>\n",
              "<style scoped>\n",
              "    .dataframe tbody tr th:only-of-type {\n",
              "        vertical-align: middle;\n",
              "    }\n",
              "\n",
              "    .dataframe tbody tr th {\n",
              "        vertical-align: top;\n",
              "    }\n",
              "\n",
              "    .dataframe thead th {\n",
              "        text-align: right;\n",
              "    }\n",
              "</style>\n",
              "<table border=\"1\" class=\"dataframe\">\n",
              "  <thead>\n",
              "    <tr style=\"text-align: right;\">\n",
              "      <th></th>\n",
              "      <th>Hours</th>\n",
              "      <th>Scores</th>\n",
              "    </tr>\n",
              "  </thead>\n",
              "  <tbody>\n",
              "    <tr>\n",
              "      <th>0</th>\n",
              "      <td>2.50</td>\n",
              "      <td>21</td>\n",
              "    </tr>\n",
              "    <tr>\n",
              "      <th>1</th>\n",
              "      <td>5.10</td>\n",
              "      <td>47</td>\n",
              "    </tr>\n",
              "    <tr>\n",
              "      <th>2</th>\n",
              "      <td>3.20</td>\n",
              "      <td>27</td>\n",
              "    </tr>\n",
              "    <tr>\n",
              "      <th>3</th>\n",
              "      <td>8.50</td>\n",
              "      <td>75</td>\n",
              "    </tr>\n",
              "    <tr>\n",
              "      <th>4</th>\n",
              "      <td>3.50</td>\n",
              "      <td>30</td>\n",
              "    </tr>\n",
              "  </tbody>\n",
              "</table>\n",
              "</div>"
            ],
            "text/plain": [
              "   Hours  Scores\n",
              "0   2.50      21\n",
              "1   5.10      47\n",
              "2   3.20      27\n",
              "3   8.50      75\n",
              "4   3.50      30"
            ]
          },
          "metadata": {
            "tags": []
          },
          "execution_count": 744
        }
      ]
    },
    {
      "cell_type": "code",
      "metadata": {
        "id": "PN241mfqzKfL",
        "colab_type": "code",
        "colab": {
          "base_uri": "https://localhost:8080/",
          "height": 297
        },
        "outputId": "7201dbcc-276a-4781-9194-b2bdfbd8cb6d"
      },
      "source": [
        "dataset.describe()"
      ],
      "execution_count": 745,
      "outputs": [
        {
          "output_type": "execute_result",
          "data": {
            "text/html": [
              "<div>\n",
              "<style scoped>\n",
              "    .dataframe tbody tr th:only-of-type {\n",
              "        vertical-align: middle;\n",
              "    }\n",
              "\n",
              "    .dataframe tbody tr th {\n",
              "        vertical-align: top;\n",
              "    }\n",
              "\n",
              "    .dataframe thead th {\n",
              "        text-align: right;\n",
              "    }\n",
              "</style>\n",
              "<table border=\"1\" class=\"dataframe\">\n",
              "  <thead>\n",
              "    <tr style=\"text-align: right;\">\n",
              "      <th></th>\n",
              "      <th>Hours</th>\n",
              "      <th>Scores</th>\n",
              "    </tr>\n",
              "  </thead>\n",
              "  <tbody>\n",
              "    <tr>\n",
              "      <th>count</th>\n",
              "      <td>25.00</td>\n",
              "      <td>25.00</td>\n",
              "    </tr>\n",
              "    <tr>\n",
              "      <th>mean</th>\n",
              "      <td>5.01</td>\n",
              "      <td>51.48</td>\n",
              "    </tr>\n",
              "    <tr>\n",
              "      <th>std</th>\n",
              "      <td>2.53</td>\n",
              "      <td>25.29</td>\n",
              "    </tr>\n",
              "    <tr>\n",
              "      <th>min</th>\n",
              "      <td>1.10</td>\n",
              "      <td>17.00</td>\n",
              "    </tr>\n",
              "    <tr>\n",
              "      <th>25%</th>\n",
              "      <td>2.70</td>\n",
              "      <td>30.00</td>\n",
              "    </tr>\n",
              "    <tr>\n",
              "      <th>50%</th>\n",
              "      <td>4.80</td>\n",
              "      <td>47.00</td>\n",
              "    </tr>\n",
              "    <tr>\n",
              "      <th>75%</th>\n",
              "      <td>7.40</td>\n",
              "      <td>75.00</td>\n",
              "    </tr>\n",
              "    <tr>\n",
              "      <th>max</th>\n",
              "      <td>9.20</td>\n",
              "      <td>95.00</td>\n",
              "    </tr>\n",
              "  </tbody>\n",
              "</table>\n",
              "</div>"
            ],
            "text/plain": [
              "       Hours  Scores\n",
              "count  25.00   25.00\n",
              "mean    5.01   51.48\n",
              "std     2.53   25.29\n",
              "min     1.10   17.00\n",
              "25%     2.70   30.00\n",
              "50%     4.80   47.00\n",
              "75%     7.40   75.00\n",
              "max     9.20   95.00"
            ]
          },
          "metadata": {
            "tags": []
          },
          "execution_count": 745
        }
      ]
    },
    {
      "cell_type": "code",
      "metadata": {
        "id": "7LF0iIFfzJc6",
        "colab_type": "code",
        "colab": {
          "base_uri": "https://localhost:8080/",
          "height": 68
        },
        "outputId": "33462fae-4777-4675-8258-72f0b85920d5"
      },
      "source": [
        "dataset.isnull().sum()"
      ],
      "execution_count": 746,
      "outputs": [
        {
          "output_type": "execute_result",
          "data": {
            "text/plain": [
              "Hours     0\n",
              "Scores    0\n",
              "dtype: int64"
            ]
          },
          "metadata": {
            "tags": []
          },
          "execution_count": 746
        }
      ]
    },
    {
      "cell_type": "code",
      "metadata": {
        "id": "sBGjBR2-zjJ5",
        "colab_type": "code",
        "colab": {
          "base_uri": "https://localhost:8080/",
          "height": 442
        },
        "outputId": "f2d123c8-1f36-472e-ad3e-06aaf1074e0a"
      },
      "source": [
        "print(X)"
      ],
      "execution_count": 747,
      "outputs": [
        {
          "output_type": "stream",
          "text": [
            "[[2.5]\n",
            " [5.1]\n",
            " [3.2]\n",
            " [8.5]\n",
            " [3.5]\n",
            " [1.5]\n",
            " [9.2]\n",
            " [5.5]\n",
            " [8.3]\n",
            " [2.7]\n",
            " [7.7]\n",
            " [5.9]\n",
            " [4.5]\n",
            " [3.3]\n",
            " [1.1]\n",
            " [8.9]\n",
            " [2.5]\n",
            " [1.9]\n",
            " [6.1]\n",
            " [7.4]\n",
            " [2.7]\n",
            " [4.8]\n",
            " [3.8]\n",
            " [6.9]\n",
            " [7.8]]\n"
          ],
          "name": "stdout"
        }
      ]
    },
    {
      "cell_type": "code",
      "metadata": {
        "id": "1dx58EZezn27",
        "colab_type": "code",
        "colab": {
          "base_uri": "https://localhost:8080/",
          "height": 51
        },
        "outputId": "54f292dd-c981-4b29-e04d-892da63c6c2b"
      },
      "source": [
        "print(y)"
      ],
      "execution_count": 748,
      "outputs": [
        {
          "output_type": "stream",
          "text": [
            "[21 47 27 75 30 20 88 60 81 25 85 62 41 42 17 95 30 24 67 69 30 54 35 76\n",
            " 86]\n"
          ],
          "name": "stdout"
        }
      ]
    },
    {
      "cell_type": "markdown",
      "metadata": {
        "colab_type": "text",
        "id": "4Vt2UrdEMO5q"
      },
      "source": [
        "# Visualising the Dataset"
      ]
    },
    {
      "cell_type": "code",
      "metadata": {
        "colab_type": "code",
        "id": "HwxU70fIML-E",
        "colab": {
          "base_uri": "https://localhost:8080/",
          "height": 471
        },
        "outputId": "aa3263b6-ed06-44fb-e822-252300d9d394"
      },
      "source": [
        "plt.figure(figsize=(12,7))\n",
        "plt.style.use('ggplot')\n",
        "sns.regplot(X,y)\n",
        "plt.title('Hours vs Percentage (Linear Representation)',fontdict={'fontsize':20})  \n",
        "plt.xlabel('Hours Studied',fontdict={'fontsize':18})  \n",
        "plt.ylabel('Percentage Score',fontdict={'fontsize':18})\n",
        "plt.show()"
      ],
      "execution_count": 749,
      "outputs": [
        {
          "output_type": "display_data",
          "data": {
            "image/png": "[encoded data removed]",
            "text/plain": [
              "<Figure size 864x504 with 1 Axes>"
            ]
          },
          "metadata": {
            "tags": []
          }
        }
      ]
    },
    {
      "cell_type": "code",
      "metadata": {
        "colab_type": "code",
        "id": "tuEV0ZsanS9B",
        "colab": {
          "base_uri": "https://localhost:8080/",
          "height": 531
        },
        "outputId": "a8fc3b0d-31c0-4039-e9a4-f003d70c5670"
      },
      "source": [
        "plt.figure(figsize=(16,8))\n",
        "plt.style.use('ggplot')\n",
        "sns.barplot(x=dataset['Hours'],y=dataset['Scores'])\n",
        "plt.title('Hours vs Percentage (Bar Graph)',fontdict={'fontsize':25})  \n",
        "plt.xlabel('Hours Studied',fontdict={'fontsize':20})  \n",
        "plt.ylabel('Percentage Score',fontdict={'fontsize':20})\n",
        "plt.show()"
      ],
      "execution_count": 750,
      "outputs": [
        {
          "output_type": "display_data",
          "data": {
            "image/png": "[encoded data removed]",
            "text/plain": [
              "<Figure size 1152x576 with 1 Axes>"
            ]
          },
          "metadata": {
            "tags": []
          }
        }
      ]
    },
    {
      "cell_type": "code",
      "metadata": {
        "id": "4nLVwldPYhdP",
        "colab_type": "code",
        "colab": {
          "base_uri": "https://localhost:8080/",
          "height": 508
        },
        "outputId": "9d0fcbf7-363b-4f87-f4ea-3c351e1c7cfa"
      },
      "source": [
        "plt.figure(figsize=(16,8))\n",
        "sns.heatmap(dataset, annot=True, cmap='coolwarm')\n",
        "plt.title(' Heat Map of the Dataset',fontdict={'fontsize':25})\n",
        "plt.show()\n"
      ],
      "execution_count": 751,
      "outputs": [
        {
          "output_type": "display_data",
          "data": {
            "image/png": "[encoded data removed]",
            "text/plain": [
              "<Figure size 1152x576 with 2 Axes>"
            ]
          },
          "metadata": {
            "tags": []
          }
        }
      ]
    },
    {
      "cell_type": "markdown",
      "metadata": {
        "colab_type": "text",
        "id": "OHosdFUmWkAl"
      },
      "source": [
        "# Splitting the Dataset into Training set and Test Set"
      ]
    },
    {
      "cell_type": "code",
      "metadata": {
        "colab_type": "code",
        "id": "46nqG-e7r2P5",
        "colab": {}
      },
      "source": [
        "from sklearn.model_selection import train_test_split\n",
        "X_train, X_test, y_train, y_test = train_test_split(X, y, test_size = 0.22, random_state = 96)"
      ],
      "execution_count": 752,
      "outputs": []
    },
    {
      "cell_type": "markdown",
      "metadata": {
        "id": "y2p_F1FDCnAP",
        "colab_type": "text"
      },
      "source": [
        "#1. Implementing Simple Linear Regression"
      ]
    },
    {
      "cell_type": "markdown",
      "metadata": {
        "colab_type": "text",
        "id": "OzbVILLTW4gh"
      },
      "source": [
        "# Training the Simple Linear Regression Model on the Given Dataset"
      ]
    },
    {
      "cell_type": "code",
      "metadata": {
        "colab_type": "code",
        "id": "UgxeMRJ3tJpq",
        "colab": {
          "base_uri": "https://localhost:8080/",
          "height": 34
        },
        "outputId": "335709d9-c981-4996-d4a7-279c940857ba"
      },
      "source": [
        "from sklearn.linear_model import LinearRegression\n",
        "lin_reg = LinearRegression()\n",
        "lin_reg.fit(X_train, y_train)"
      ],
      "execution_count": 753,
      "outputs": [
        {
          "output_type": "execute_result",
          "data": {
            "text/plain": [
              "LinearRegression(copy_X=True, fit_intercept=True, n_jobs=None, normalize=False)"
            ]
          },
          "metadata": {
            "tags": []
          },
          "execution_count": 753
        }
      ]
    },
    {
      "cell_type": "markdown",
      "metadata": {
        "colab_type": "text",
        "id": "S4htbNXUXLJt"
      },
      "source": [
        "# Predicting the Test Set results"
      ]
    },
    {
      "cell_type": "code",
      "metadata": {
        "colab_type": "code",
        "id": "sKtI3VqQywU6",
        "colab": {
          "base_uri": "https://localhost:8080/",
          "height": 34
        },
        "outputId": "c2a5d5e0-165d-45a5-832f-c81495b79652"
      },
      "source": [
        "y_pred = lin_reg.predict(X_test)\n",
        "print(y_pred)"
      ],
      "execution_count": 754,
      "outputs": [
        {
          "output_type": "stream",
          "text": [
            "[56.10940296 83.66461629 26.5859601  26.5859601  20.68127153 60.045862  ]\n"
          ],
          "name": "stdout"
        }
      ]
    },
    {
      "cell_type": "markdown",
      "metadata": {
        "id": "WAXEyE-C6S2c",
        "colab_type": "text"
      },
      "source": [
        "# Comparing the Actual and Predicted Values"
      ]
    },
    {
      "cell_type": "code",
      "metadata": {
        "id": "G6tqOw7A6Myh",
        "colab_type": "code",
        "colab": {
          "base_uri": "https://localhost:8080/",
          "height": 235
        },
        "outputId": "10100736-e348-424b-9a07-54d8410aac7f"
      },
      "source": [
        "dataframe = pd.DataFrame({'Actual': y_test, 'Predicted': y_pred})  \n",
        "dataframe"
      ],
      "execution_count": 755,
      "outputs": [
        {
          "output_type": "execute_result",
          "data": {
            "text/html": [
              "<div>\n",
              "<style scoped>\n",
              "    .dataframe tbody tr th:only-of-type {\n",
              "        vertical-align: middle;\n",
              "    }\n",
              "\n",
              "    .dataframe tbody tr th {\n",
              "        vertical-align: top;\n",
              "    }\n",
              "\n",
              "    .dataframe thead th {\n",
              "        text-align: right;\n",
              "    }\n",
              "</style>\n",
              "<table border=\"1\" class=\"dataframe\">\n",
              "  <thead>\n",
              "    <tr style=\"text-align: right;\">\n",
              "      <th></th>\n",
              "      <th>Actual</th>\n",
              "      <th>Predicted</th>\n",
              "    </tr>\n",
              "  </thead>\n",
              "  <tbody>\n",
              "    <tr>\n",
              "      <th>0</th>\n",
              "      <td>60</td>\n",
              "      <td>56.11</td>\n",
              "    </tr>\n",
              "    <tr>\n",
              "      <th>1</th>\n",
              "      <td>81</td>\n",
              "      <td>83.66</td>\n",
              "    </tr>\n",
              "    <tr>\n",
              "      <th>2</th>\n",
              "      <td>21</td>\n",
              "      <td>26.59</td>\n",
              "    </tr>\n",
              "    <tr>\n",
              "      <th>3</th>\n",
              "      <td>30</td>\n",
              "      <td>26.59</td>\n",
              "    </tr>\n",
              "    <tr>\n",
              "      <th>4</th>\n",
              "      <td>24</td>\n",
              "      <td>20.68</td>\n",
              "    </tr>\n",
              "    <tr>\n",
              "      <th>5</th>\n",
              "      <td>62</td>\n",
              "      <td>60.05</td>\n",
              "    </tr>\n",
              "  </tbody>\n",
              "</table>\n",
              "</div>"
            ],
            "text/plain": [
              "   Actual  Predicted\n",
              "0      60      56.11\n",
              "1      81      83.66\n",
              "2      21      26.59\n",
              "3      30      26.59\n",
              "4      24      20.68\n",
              "5      62      60.05"
            ]
          },
          "metadata": {
            "tags": []
          },
          "execution_count": 755
        }
      ]
    },
    {
      "cell_type": "markdown",
      "metadata": {
        "colab_type": "text",
        "id": "G-7cFBlQUaVW"
      },
      "source": [
        "# Checking the Accuracy Rate of the Model"
      ]
    },
    {
      "cell_type": "code",
      "metadata": {
        "id": "oxO-Q6fJvnM-",
        "colab_type": "code",
        "colab": {
          "base_uri": "https://localhost:8080/",
          "height": 51
        },
        "outputId": "89c8b689-f117-4fbf-8172-d9a19f29fb6c"
      },
      "source": [
        "from sklearn.model_selection import cross_val_score\n",
        "accuracies = cross_val_score(estimator = lin_reg, X = X_train, y = y_train, cv = 3)\n",
        "print(\"Accuracy: {} %\".format(accuracies.mean()*100))\n",
        "print(\"Standard Deviation: {} %\".format(accuracies.std()*100))"
      ],
      "execution_count": 756,
      "outputs": [
        {
          "output_type": "stream",
          "text": [
            "Accuracy: 93.26082505190722 %\n",
            "Standard Deviation: 2.6503593797324863 %\n"
          ],
          "name": "stdout"
        }
      ]
    },
    {
      "cell_type": "markdown",
      "metadata": {
        "id": "y3rv0Udl4Bn7",
        "colab_type": "text"
      },
      "source": [
        "#Checking the Mean Absolute Error and Root Mean Squared Error"
      ]
    },
    {
      "cell_type": "code",
      "metadata": {
        "colab_type": "code",
        "id": "htpMvsl6sDLQ",
        "colab": {
          "base_uri": "https://localhost:8080/",
          "height": 51
        },
        "outputId": "0514fa12-8a8d-44c1-c1a4-b1b0caf76b03"
      },
      "source": [
        "from sklearn.metrics import mean_absolute_error,mean_squared_error\n",
        "mae=mean_absolute_error(y_test, y_pred)\n",
        "rmse=np.sqrt(mean_squared_error(y_test,y_pred))\n",
        "print('Mean Absolute error in Linear Regression Model:  ',mae)\n",
        "print('Root Mean Squared Error in Linear Regression Model:  ',rmse)"
      ],
      "execution_count": 757,
      "outputs": [
        {
          "output_type": "stream",
          "text": [
            "Mean Absolute error in Linear Regression Model:   3.471346632602503\n",
            "Root Mean Squared Error in Linear Regression Model:   3.649843785623521\n"
          ],
          "name": "stdout"
        }
      ]
    },
    {
      "cell_type": "markdown",
      "metadata": {
        "id": "AVsB2-QX5jNJ",
        "colab_type": "text"
      },
      "source": [
        "# Visualising the Training Set Data in Linear Regression"
      ]
    },
    {
      "cell_type": "code",
      "metadata": {
        "id": "E0MpAZhR5ho-",
        "colab_type": "code",
        "colab": {
          "base_uri": "https://localhost:8080/",
          "height": 417
        },
        "outputId": "77656be6-467e-4785-9b85-76db173344b5"
      },
      "source": [
        "plt.figure(figsize=(12,6))\n",
        "plt.style.use('ggplot')\n",
        "plt.scatter(X_train, y_train, color = 'red')\n",
        "plt.plot(X_train, lin_reg.predict(X_train), color = 'blue')\n",
        "plt.title('Hours vs Percentage(Linear Regression - Training Set)',fontdict={'fontsize':20})  \n",
        "plt.xlabel('Hours Studied',fontdict={'fontsize':18})  \n",
        "plt.ylabel('Percentage Score',fontdict={'fontsize':18})\n",
        "plt.show()"
      ],
      "execution_count": 758,
      "outputs": [
        {
          "output_type": "display_data",
          "data": {
            "image/png": "[encoded data removed]",
            "text/plain": [
              "<Figure size 864x432 with 1 Axes>"
            ]
          },
          "metadata": {
            "tags": []
          }
        }
      ]
    },
    {
      "cell_type": "markdown",
      "metadata": {
        "id": "ULQvGqEx6D7g",
        "colab_type": "text"
      },
      "source": [
        "# Visualising the Test Set Data in Linear Regression "
      ]
    },
    {
      "cell_type": "code",
      "metadata": {
        "id": "8ec9eQLQ59Lg",
        "colab_type": "code",
        "colab": {
          "base_uri": "https://localhost:8080/",
          "height": 417
        },
        "outputId": "b7e2a9a9-b351-492a-8e67-3de72bf4c1e1"
      },
      "source": [
        "plt.figure(figsize=(12,6))\n",
        "plt.style.use('ggplot')\n",
        "plt.scatter(X_test, y_test, color = 'red')\n",
        "plt.plot(X_train, lin_reg.predict(X_train), color = 'blue')\n",
        "plt.title('Hours vs Percentage(Linear Regression - Test Set)',fontdict={'fontsize':20})  \n",
        "plt.xlabel('Hours Studied',fontdict={'fontsize':18})  \n",
        "plt.ylabel('Percentage Score',fontdict={'fontsize':18})\n",
        "plt.show()"
      ],
      "execution_count": 759,
      "outputs": [
        {
          "output_type": "display_data",
          "data": {
            "image/png": "[encoded data removed]",
            "text/plain": [
              "<Figure size 864x432 with 1 Axes>"
            ]
          },
          "metadata": {
            "tags": []
          }
        }
      ]
    },
    {
      "cell_type": "markdown",
      "metadata": {
        "id": "QgZppLhyz0g8",
        "colab_type": "text"
      },
      "source": [
        "# Predicting the best model with the least RMSE value"
      ]
    },
    {
      "cell_type": "code",
      "metadata": {
        "id": "xo7QTiGo5uRo",
        "colab_type": "code",
        "colab": {
          "base_uri": "https://localhost:8080/",
          "height": 51
        },
        "outputId": "0c548289-504d-419a-da9d-b492d745a9fd"
      },
      "source": [
        "!pip install lazypredict"
      ],
      "execution_count": 760,
      "outputs": [
        {
          "output_type": "stream",
          "text": [
            "Requirement already satisfied: lazypredict in /usr/local/lib/python3.6/dist-packages (0.2.7)\n",
            "Requirement already satisfied: Click>=7.0 in /usr/local/lib/python3.6/dist-packages (from lazypredict) (7.1.2)\n"
          ],
          "name": "stdout"
        }
      ]
    },
    {
      "cell_type": "code",
      "metadata": {
        "colab_type": "code",
        "id": "jVHOUme-v-M6",
        "colab": {
          "base_uri": "https://localhost:8080/",
          "height": 68
        },
        "outputId": "3dafcaf3-f1ba-4067-b39a-e20fe2e843ca"
      },
      "source": [
        "from lazypredict.Supervised import LazyRegressor as LR\n",
        "lazy_pred = LR()\n",
        "regressor, predictions = lazy_pred.fit(X_train, X_test, y_train, y_test)"
      ],
      "execution_count": 761,
      "outputs": [
        {
          "output_type": "stream",
          "text": [
            "100%|██████████| 39/39 [00:00<00:00, 46.60it/s]"
          ],
          "name": "stderr"
        },
        {
          "output_type": "stream",
          "text": [
            "[11:14:42] WARNING: /workspace/src/objective/regression_obj.cu:152: reg:linear is now deprecated in favor of reg:squarederror.\n"
          ],
          "name": "stdout"
        },
        {
          "output_type": "stream",
          "text": [
            "\n"
          ],
          "name": "stderr"
        }
      ]
    },
    {
      "cell_type": "code",
      "metadata": {
        "colab_type": "code",
        "id": "-8zpbzQywGOZ",
        "colab": {
          "base_uri": "https://localhost:8080/",
          "height": 1000
        },
        "outputId": "1c72a7fd-404a-4877-ba8e-8719a7394a5d"
      },
      "source": [
        "regressor"
      ],
      "execution_count": 762,
      "outputs": [
        {
          "output_type": "execute_result",
          "data": {
            "text/html": [
              "<div>\n",
              "<style scoped>\n",
              "    .dataframe tbody tr th:only-of-type {\n",
              "        vertical-align: middle;\n",
              "    }\n",
              "\n",
              "    .dataframe tbody tr th {\n",
              "        vertical-align: top;\n",
              "    }\n",
              "\n",
              "    .dataframe thead th {\n",
              "        text-align: right;\n",
              "    }\n",
              "</style>\n",
              "<table border=\"1\" class=\"dataframe\">\n",
              "  <thead>\n",
              "    <tr style=\"text-align: right;\">\n",
              "      <th></th>\n",
              "      <th>R-Squared</th>\n",
              "      <th>RMSE</th>\n",
              "      <th>Time Taken</th>\n",
              "    </tr>\n",
              "    <tr>\n",
              "      <th>Model</th>\n",
              "      <th></th>\n",
              "      <th></th>\n",
              "      <th></th>\n",
              "    </tr>\n",
              "  </thead>\n",
              "  <tbody>\n",
              "    <tr>\n",
              "      <th>ExtraTreesRegressor</th>\n",
              "      <td>0.98</td>\n",
              "      <td>3.49</td>\n",
              "      <td>0.08</td>\n",
              "    </tr>\n",
              "    <tr>\n",
              "      <th>ElasticNetCV</th>\n",
              "      <td>0.97</td>\n",
              "      <td>3.58</td>\n",
              "      <td>0.05</td>\n",
              "    </tr>\n",
              "    <tr>\n",
              "      <th>Lasso</th>\n",
              "      <td>0.97</td>\n",
              "      <td>3.58</td>\n",
              "      <td>0.01</td>\n",
              "    </tr>\n",
              "    <tr>\n",
              "      <th>Ridge</th>\n",
              "      <td>0.97</td>\n",
              "      <td>3.60</td>\n",
              "      <td>0.01</td>\n",
              "    </tr>\n",
              "    <tr>\n",
              "      <th>RidgeCV</th>\n",
              "      <td>0.97</td>\n",
              "      <td>3.63</td>\n",
              "      <td>0.01</td>\n",
              "    </tr>\n",
              "    <tr>\n",
              "      <th>BayesianRidge</th>\n",
              "      <td>0.97</td>\n",
              "      <td>3.64</td>\n",
              "      <td>0.01</td>\n",
              "    </tr>\n",
              "    <tr>\n",
              "      <th>LassoCV</th>\n",
              "      <td>0.97</td>\n",
              "      <td>3.65</td>\n",
              "      <td>0.06</td>\n",
              "    </tr>\n",
              "    <tr>\n",
              "      <th>LarsCV</th>\n",
              "      <td>0.97</td>\n",
              "      <td>3.65</td>\n",
              "      <td>0.01</td>\n",
              "    </tr>\n",
              "    <tr>\n",
              "      <th>TransformedTargetRegressor</th>\n",
              "      <td>0.97</td>\n",
              "      <td>3.65</td>\n",
              "      <td>0.01</td>\n",
              "    </tr>\n",
              "    <tr>\n",
              "      <th>LinearRegression</th>\n",
              "      <td>0.97</td>\n",
              "      <td>3.65</td>\n",
              "      <td>0.01</td>\n",
              "    </tr>\n",
              "    <tr>\n",
              "      <th>LassoLarsIC</th>\n",
              "      <td>0.97</td>\n",
              "      <td>3.65</td>\n",
              "      <td>0.01</td>\n",
              "    </tr>\n",
              "    <tr>\n",
              "      <th>LassoLarsCV</th>\n",
              "      <td>0.97</td>\n",
              "      <td>3.65</td>\n",
              "      <td>0.01</td>\n",
              "    </tr>\n",
              "    <tr>\n",
              "      <th>OrthogonalMatchingPursuit</th>\n",
              "      <td>0.97</td>\n",
              "      <td>3.65</td>\n",
              "      <td>0.01</td>\n",
              "    </tr>\n",
              "    <tr>\n",
              "      <th>RANSACRegressor</th>\n",
              "      <td>0.97</td>\n",
              "      <td>3.65</td>\n",
              "      <td>0.01</td>\n",
              "    </tr>\n",
              "    <tr>\n",
              "      <th>Lars</th>\n",
              "      <td>0.97</td>\n",
              "      <td>3.65</td>\n",
              "      <td>0.01</td>\n",
              "    </tr>\n",
              "    <tr>\n",
              "      <th>SGDRegressor</th>\n",
              "      <td>0.97</td>\n",
              "      <td>3.67</td>\n",
              "      <td>0.01</td>\n",
              "    </tr>\n",
              "    <tr>\n",
              "      <th>HuberRegressor</th>\n",
              "      <td>0.97</td>\n",
              "      <td>3.67</td>\n",
              "      <td>0.01</td>\n",
              "    </tr>\n",
              "    <tr>\n",
              "      <th>GaussianProcessRegressor</th>\n",
              "      <td>0.97</td>\n",
              "      <td>4.10</td>\n",
              "      <td>0.01</td>\n",
              "    </tr>\n",
              "    <tr>\n",
              "      <th>RandomForestRegressor</th>\n",
              "      <td>0.97</td>\n",
              "      <td>4.19</td>\n",
              "      <td>0.14</td>\n",
              "    </tr>\n",
              "    <tr>\n",
              "      <th>BaggingRegressor</th>\n",
              "      <td>0.96</td>\n",
              "      <td>4.27</td>\n",
              "      <td>0.02</td>\n",
              "    </tr>\n",
              "    <tr>\n",
              "      <th>PassiveAggressiveRegressor</th>\n",
              "      <td>0.96</td>\n",
              "      <td>4.33</td>\n",
              "      <td>0.01</td>\n",
              "    </tr>\n",
              "    <tr>\n",
              "      <th>LassoLars</th>\n",
              "      <td>0.95</td>\n",
              "      <td>5.02</td>\n",
              "      <td>0.01</td>\n",
              "    </tr>\n",
              "    <tr>\n",
              "      <th>KNeighborsRegressor</th>\n",
              "      <td>0.95</td>\n",
              "      <td>5.06</td>\n",
              "      <td>0.01</td>\n",
              "    </tr>\n",
              "    <tr>\n",
              "      <th>ExtraTreeRegressor</th>\n",
              "      <td>0.94</td>\n",
              "      <td>5.39</td>\n",
              "      <td>0.01</td>\n",
              "    </tr>\n",
              "    <tr>\n",
              "      <th>AdaBoostRegressor</th>\n",
              "      <td>0.94</td>\n",
              "      <td>5.71</td>\n",
              "      <td>0.07</td>\n",
              "    </tr>\n",
              "    <tr>\n",
              "      <th>XGBRegressor</th>\n",
              "      <td>0.92</td>\n",
              "      <td>6.51</td>\n",
              "      <td>0.02</td>\n",
              "    </tr>\n",
              "    <tr>\n",
              "      <th>GradientBoostingRegressor</th>\n",
              "      <td>0.91</td>\n",
              "      <td>6.89</td>\n",
              "      <td>0.03</td>\n",
              "    </tr>\n",
              "    <tr>\n",
              "      <th>DecisionTreeRegressor</th>\n",
              "      <td>0.90</td>\n",
              "      <td>7.01</td>\n",
              "      <td>0.01</td>\n",
              "    </tr>\n",
              "    <tr>\n",
              "      <th>ElasticNet</th>\n",
              "      <td>0.86</td>\n",
              "      <td>8.38</td>\n",
              "      <td>0.01</td>\n",
              "    </tr>\n",
              "    <tr>\n",
              "      <th>SVR</th>\n",
              "      <td>0.39</td>\n",
              "      <td>17.61</td>\n",
              "      <td>0.01</td>\n",
              "    </tr>\n",
              "    <tr>\n",
              "      <th>NuSVR</th>\n",
              "      <td>0.20</td>\n",
              "      <td>20.14</td>\n",
              "      <td>0.01</td>\n",
              "    </tr>\n",
              "    <tr>\n",
              "      <th>DummyRegressor</th>\n",
              "      <td>-0.09</td>\n",
              "      <td>23.51</td>\n",
              "      <td>0.01</td>\n",
              "    </tr>\n",
              "    <tr>\n",
              "      <th>LGBMRegressor</th>\n",
              "      <td>-0.09</td>\n",
              "      <td>23.51</td>\n",
              "      <td>0.01</td>\n",
              "    </tr>\n",
              "    <tr>\n",
              "      <th>HistGradientBoostingRegressor</th>\n",
              "      <td>-0.09</td>\n",
              "      <td>23.51</td>\n",
              "      <td>0.02</td>\n",
              "    </tr>\n",
              "    <tr>\n",
              "      <th>LinearSVR</th>\n",
              "      <td>-1.49</td>\n",
              "      <td>35.54</td>\n",
              "      <td>0.01</td>\n",
              "    </tr>\n",
              "    <tr>\n",
              "      <th>MLPRegressor</th>\n",
              "      <td>-3.16</td>\n",
              "      <td>45.93</td>\n",
              "      <td>0.11</td>\n",
              "    </tr>\n",
              "    <tr>\n",
              "      <th>KernelRidge</th>\n",
              "      <td>-4.66</td>\n",
              "      <td>53.57</td>\n",
              "      <td>0.01</td>\n",
              "    </tr>\n",
              "  </tbody>\n",
              "</table>\n",
              "</div>"
            ],
            "text/plain": [
              "                               R-Squared  RMSE  Time Taken\n",
              "Model                                                     \n",
              "ExtraTreesRegressor                 0.98  3.49        0.08\n",
              "ElasticNetCV                        0.97  3.58        0.05\n",
              "Lasso                               0.97  3.58        0.01\n",
              "Ridge                               0.97  3.60        0.01\n",
              "RidgeCV                             0.97  3.63        0.01\n",
              "BayesianRidge                       0.97  3.64        0.01\n",
              "LassoCV                             0.97  3.65        0.06\n",
              "LarsCV                              0.97  3.65        0.01\n",
              "TransformedTargetRegressor          0.97  3.65        0.01\n",
              "LinearRegression                    0.97  3.65        0.01\n",
              "LassoLarsIC                         0.97  3.65        0.01\n",
              "LassoLarsCV                         0.97  3.65        0.01\n",
              "OrthogonalMatchingPursuit           0.97  3.65        0.01\n",
              "RANSACRegressor                     0.97  3.65        0.01\n",
              "Lars                                0.97  3.65        0.01\n",
              "SGDRegressor                        0.97  3.67        0.01\n",
              "HuberRegressor                      0.97  3.67        0.01\n",
              "GaussianProcessRegressor            0.97  4.10        0.01\n",
              "RandomForestRegressor               0.97  4.19        0.14\n",
              "BaggingRegressor                    0.96  4.27        0.02\n",
              "PassiveAggressiveRegressor          0.96  4.33        0.01\n",
              "LassoLars                           0.95  5.02        0.01\n",
              "KNeighborsRegressor                 0.95  5.06        0.01\n",
              "ExtraTreeRegressor                  0.94  5.39        0.01\n",
              "AdaBoostRegressor                   0.94  5.71        0.07\n",
              "XGBRegressor                        0.92  6.51        0.02\n",
              "GradientBoostingRegressor           0.91  6.89        0.03\n",
              "DecisionTreeRegressor               0.90  7.01        0.01\n",
              "ElasticNet                          0.86  8.38        0.01\n",
              "SVR                                 0.39 17.61        0.01\n",
              "NuSVR                               0.20 20.14        0.01\n",
              "DummyRegressor                     -0.09 23.51        0.01\n",
              "LGBMRegressor                      -0.09 23.51        0.01\n",
              "HistGradientBoostingRegressor      -0.09 23.51        0.02\n",
              "LinearSVR                          -1.49 35.54        0.01\n",
              "MLPRegressor                       -3.16 45.93        0.11\n",
              "KernelRidge                        -4.66 53.57        0.01"
            ]
          },
          "metadata": {
            "tags": []
          },
          "execution_count": 762
        }
      ]
    },
    {
      "cell_type": "markdown",
      "metadata": {
        "id": "f0laxYbc9N0Q",
        "colab_type": "text"
      },
      "source": [
        "#ExtraTreesRegression and ElasticNetCV  have the least RMSE value"
      ]
    },
    {
      "cell_type": "markdown",
      "metadata": {
        "id": "kY0h1di2AjR_",
        "colab_type": "text"
      },
      "source": [
        "#2. Implementing ExtraTreesRegressor Model"
      ]
    },
    {
      "cell_type": "markdown",
      "metadata": {
        "id": "JOIQ9OPIBLEl",
        "colab_type": "text"
      },
      "source": [
        "#Training the ExtraTreesRegressor Model"
      ]
    },
    {
      "cell_type": "code",
      "metadata": {
        "id": "farsPgO7Alvg",
        "colab_type": "code",
        "colab": {
          "base_uri": "https://localhost:8080/",
          "height": 136
        },
        "outputId": "d8ea5849-af03-41f3-865c-ecf4c3810cae"
      },
      "source": [
        "from sklearn.ensemble import ExtraTreesRegressor\n",
        "etreg = ExtraTreesRegressor(n_estimators=100, random_state=0, n_jobs = -1)\n",
        "etreg.fit(X_train,y_train)"
      ],
      "execution_count": 763,
      "outputs": [
        {
          "output_type": "execute_result",
          "data": {
            "text/plain": [
              "ExtraTreesRegressor(bootstrap=False, ccp_alpha=0.0, criterion='mse',\n",
              "                    max_depth=None, max_features='auto', max_leaf_nodes=None,\n",
              "                    max_samples=None, min_impurity_decrease=0.0,\n",
              "                    min_impurity_split=None, min_samples_leaf=1,\n",
              "                    min_samples_split=2, min_weight_fraction_leaf=0.0,\n",
              "                    n_estimators=100, n_jobs=-1, oob_score=False,\n",
              "                    random_state=0, verbose=0, warm_start=False)"
            ]
          },
          "metadata": {
            "tags": []
          },
          "execution_count": 763
        }
      ]
    },
    {
      "cell_type": "markdown",
      "metadata": {
        "id": "K_dNdhLxBQYT",
        "colab_type": "text"
      },
      "source": [
        "#Predicting the Test Set Results on ExtraTreesRegressor"
      ]
    },
    {
      "cell_type": "code",
      "metadata": {
        "id": "mYZvBo8CBB-I",
        "colab_type": "code",
        "colab": {
          "base_uri": "https://localhost:8080/",
          "height": 34
        },
        "outputId": "141116d0-5c3b-426b-be0e-ececb08e65ac"
      },
      "source": [
        "y_pred2=etreg.predict(X_test)\n",
        "print(y_pred2)"
      ],
      "execution_count": 764,
      "outputs": [
        {
          "output_type": "stream",
          "text": [
            "[55.2  78.74 25.85 25.85 22.7  63.2 ]\n"
          ],
          "name": "stdout"
        }
      ]
    },
    {
      "cell_type": "markdown",
      "metadata": {
        "id": "iZA0YEpXBvxL",
        "colab_type": "text"
      },
      "source": [
        "#Comparing the Actual and Predicted Values"
      ]
    },
    {
      "cell_type": "code",
      "metadata": {
        "id": "miU-nkDDBezM",
        "colab_type": "code",
        "colab": {
          "base_uri": "https://localhost:8080/",
          "height": 235
        },
        "outputId": "c4aa98fb-e873-466c-ee83-572c4afa4c27"
      },
      "source": [
        "dataframe = pd.DataFrame({'Actual': y_test, 'Predicted': y_pred2})  \n",
        "dataframe"
      ],
      "execution_count": 765,
      "outputs": [
        {
          "output_type": "execute_result",
          "data": {
            "text/html": [
              "<div>\n",
              "<style scoped>\n",
              "    .dataframe tbody tr th:only-of-type {\n",
              "        vertical-align: middle;\n",
              "    }\n",
              "\n",
              "    .dataframe tbody tr th {\n",
              "        vertical-align: top;\n",
              "    }\n",
              "\n",
              "    .dataframe thead th {\n",
              "        text-align: right;\n",
              "    }\n",
              "</style>\n",
              "<table border=\"1\" class=\"dataframe\">\n",
              "  <thead>\n",
              "    <tr style=\"text-align: right;\">\n",
              "      <th></th>\n",
              "      <th>Actual</th>\n",
              "      <th>Predicted</th>\n",
              "    </tr>\n",
              "  </thead>\n",
              "  <tbody>\n",
              "    <tr>\n",
              "      <th>0</th>\n",
              "      <td>60</td>\n",
              "      <td>55.20</td>\n",
              "    </tr>\n",
              "    <tr>\n",
              "      <th>1</th>\n",
              "      <td>81</td>\n",
              "      <td>78.74</td>\n",
              "    </tr>\n",
              "    <tr>\n",
              "      <th>2</th>\n",
              "      <td>21</td>\n",
              "      <td>25.85</td>\n",
              "    </tr>\n",
              "    <tr>\n",
              "      <th>3</th>\n",
              "      <td>30</td>\n",
              "      <td>25.85</td>\n",
              "    </tr>\n",
              "    <tr>\n",
              "      <th>4</th>\n",
              "      <td>24</td>\n",
              "      <td>22.70</td>\n",
              "    </tr>\n",
              "    <tr>\n",
              "      <th>5</th>\n",
              "      <td>62</td>\n",
              "      <td>63.20</td>\n",
              "    </tr>\n",
              "  </tbody>\n",
              "</table>\n",
              "</div>"
            ],
            "text/plain": [
              "   Actual  Predicted\n",
              "0      60      55.20\n",
              "1      81      78.74\n",
              "2      21      25.85\n",
              "3      30      25.85\n",
              "4      24      22.70\n",
              "5      62      63.20"
            ]
          },
          "metadata": {
            "tags": []
          },
          "execution_count": 765
        }
      ]
    },
    {
      "cell_type": "markdown",
      "metadata": {
        "id": "6lab7OYCCAlo",
        "colab_type": "text"
      },
      "source": [
        "#Checking the Accuracy of ExtraTreesRegressor Model"
      ]
    },
    {
      "cell_type": "code",
      "metadata": {
        "id": "52IR-sSjB_tq",
        "colab_type": "code",
        "colab": {
          "base_uri": "https://localhost:8080/",
          "height": 51
        },
        "outputId": "1bc426a3-0d48-4bc1-cd1d-b3ec0fe6c7db"
      },
      "source": [
        "from sklearn.model_selection import cross_val_score\n",
        "accuracies = cross_val_score(estimator = etreg, X = X_train, y = y_train, cv = 3)\n",
        "print(\"Accuracy: {} %\".format(accuracies.mean()*100))\n",
        "print(\"Standard Deviation: {} %\".format(accuracies.std()*100))"
      ],
      "execution_count": 766,
      "outputs": [
        {
          "output_type": "stream",
          "text": [
            "Accuracy: 89.21664399894604 %\n",
            "Standard Deviation: 4.866866335525518 %\n"
          ],
          "name": "stdout"
        }
      ]
    },
    {
      "cell_type": "markdown",
      "metadata": {
        "id": "vOCpKTQuVbcD",
        "colab_type": "text"
      },
      "source": [
        "#Checking the Mean Absolute Error and Root Mean Squared Error"
      ]
    },
    {
      "cell_type": "code",
      "metadata": {
        "id": "JN83n4BiCG1S",
        "colab_type": "code",
        "colab": {
          "base_uri": "https://localhost:8080/",
          "height": 51
        },
        "outputId": "fd0edca2-0c87-49ea-920b-88d84c4d007a"
      },
      "source": [
        "from sklearn.metrics import mean_absolute_error,mean_squared_error\n",
        "mae=mean_absolute_error(y_test, y_pred2)\n",
        "rmse=np.sqrt(mean_squared_error(y_test,y_pred2))\n",
        "print('Mean Absolute error in Linear Regression Model:  ',mae)\n",
        "print('Root Mean Squared Error in Linear Regression Model:  ',rmse)"
      ],
      "execution_count": 767,
      "outputs": [
        {
          "output_type": "stream",
          "text": [
            "Mean Absolute error in Linear Regression Model:   3.093333333333334\n",
            "Root Mean Squared Error in Linear Regression Model:   3.464645243984825\n"
          ],
          "name": "stdout"
        }
      ]
    },
    {
      "cell_type": "markdown",
      "metadata": {
        "id": "A3GFCTP1HqFZ",
        "colab_type": "text"
      },
      "source": [
        "# Visualising the Training Set Data on ExtraTreesRegressor"
      ]
    },
    {
      "cell_type": "code",
      "metadata": {
        "id": "hqKzpnD1E_E_",
        "colab_type": "code",
        "colab": {
          "base_uri": "https://localhost:8080/",
          "height": 417
        },
        "outputId": "b2b48fdb-0dba-42fa-b48b-2d39af324754"
      },
      "source": [
        "plt.figure(figsize=(12,6))\n",
        "plt.style.use('ggplot')\n",
        "sns.regplot(X_train, etreg.predict(X_train), color = 'blue')\n",
        "plt.title('Hours vs Percentage(ExtraTreesRegressor - Training Set)',fontdict={'fontsize':20})  \n",
        "plt.xlabel('Hours Studied',fontdict={'fontsize':18})  \n",
        "plt.ylabel('Percentage Score',fontdict={'fontsize':18})\n",
        "plt.show()"
      ],
      "execution_count": 768,
      "outputs": [
        {
          "output_type": "display_data",
          "data": {
            "image/png": "[encoded data removed]",
            "text/plain": [
              "<Figure size 864x432 with 1 Axes>"
            ]
          },
          "metadata": {
            "tags": []
          }
        }
      ]
    },
    {
      "cell_type": "markdown",
      "metadata": {
        "id": "Fg54M-DoWF8D",
        "colab_type": "text"
      },
      "source": [
        "# Visualising the Test Set Data on ExtraTreesRegressor"
      ]
    },
    {
      "cell_type": "code",
      "metadata": {
        "id": "Bwgsd_AjHinp",
        "colab_type": "code",
        "colab": {
          "base_uri": "https://localhost:8080/",
          "height": 417
        },
        "outputId": "92d593cd-27c5-4fef-b4ee-a1a4db49d363"
      },
      "source": [
        "plt.figure(figsize=(12,6))\n",
        "plt.style.use('ggplot')\n",
        "sns.regplot(X_test, etreg.predict(X_test), color = 'blue')\n",
        "plt.title('Hours vs Percentage(ExtraTreesRegressor - Test Set)',fontdict={'fontsize':20})  \n",
        "plt.xlabel('Hours Studied',fontdict={'fontsize':18})  \n",
        "plt.ylabel('Percentage Score',fontdict={'fontsize':18})\n",
        "plt.show()"
      ],
      "execution_count": 769,
      "outputs": [
        {
          "output_type": "display_data",
          "data": {
            "image/png": "[encoded data removed]",
            "text/plain": [
              "<Figure size 864x432 with 1 Axes>"
            ]
          },
          "metadata": {
            "tags": []
          }
        }
      ]
    },
    {
      "cell_type": "markdown",
      "metadata": {
        "id": "RO5a_XuXKGtt",
        "colab_type": "text"
      },
      "source": [
        "#3. Implementing ElasticNetCV Model"
      ]
    },
    {
      "cell_type": "markdown",
      "metadata": {
        "id": "4gk0_SVQUGam",
        "colab_type": "text"
      },
      "source": [
        "#Training the ElasticNetCV Model"
      ]
    },
    {
      "cell_type": "code",
      "metadata": {
        "id": "5K800vF1KFKZ",
        "colab_type": "code",
        "colab": {
          "base_uri": "https://localhost:8080/",
          "height": 85
        },
        "outputId": "d56723ac-d109-4fe9-87c5-0ff9e62a319f"
      },
      "source": [
        "from sklearn.linear_model import ElasticNetCV\n",
        "ENReg = ElasticNetCV(cv=3, random_state=96, n_jobs = -1)\n",
        "ENReg.fit(X_train,y_train)"
      ],
      "execution_count": 770,
      "outputs": [
        {
          "output_type": "execute_result",
          "data": {
            "text/plain": [
              "ElasticNetCV(alphas=None, copy_X=True, cv=3, eps=0.001, fit_intercept=True,\n",
              "             l1_ratio=0.5, max_iter=1000, n_alphas=100, n_jobs=-1,\n",
              "             normalize=False, positive=False, precompute='auto',\n",
              "             random_state=96, selection='cyclic', tol=0.0001, verbose=0)"
            ]
          },
          "metadata": {
            "tags": []
          },
          "execution_count": 770
        }
      ]
    },
    {
      "cell_type": "markdown",
      "metadata": {
        "id": "xw9ifvHbUq1j",
        "colab_type": "text"
      },
      "source": [
        "#Predicting the Test Set results on ElasticNetCV"
      ]
    },
    {
      "cell_type": "code",
      "metadata": {
        "id": "Mwj5r6tuUfjb",
        "colab_type": "code",
        "colab": {
          "base_uri": "https://localhost:8080/",
          "height": 34
        },
        "outputId": "5336bc64-dd7a-46cf-959e-d5853e9f846d"
      },
      "source": [
        "y_pred3=ENReg.predict(X_test)\n",
        "print(y_pred3)"
      ],
      "execution_count": 771,
      "outputs": [
        {
          "output_type": "stream",
          "text": [
            "[56.07715202 83.33654641 26.87065803 26.87065803 21.02935923 59.97135122]\n"
          ],
          "name": "stdout"
        }
      ]
    },
    {
      "cell_type": "markdown",
      "metadata": {
        "id": "SSgtVulUUz_7",
        "colab_type": "text"
      },
      "source": [
        "#Comparing the Actual and Predicted Values"
      ]
    },
    {
      "cell_type": "code",
      "metadata": {
        "id": "0hRdCaXAUop9",
        "colab_type": "code",
        "colab": {
          "base_uri": "https://localhost:8080/",
          "height": 235
        },
        "outputId": "ce3b3c8b-55e3-45da-a864-8c4de764a53d"
      },
      "source": [
        "dataframe = pd.DataFrame({'Actual': y_test, 'Predicted': y_pred3})  \n",
        "dataframe"
      ],
      "execution_count": 772,
      "outputs": [
        {
          "output_type": "execute_result",
          "data": {
            "text/html": [
              "<div>\n",
              "<style scoped>\n",
              "    .dataframe tbody tr th:only-of-type {\n",
              "        vertical-align: middle;\n",
              "    }\n",
              "\n",
              "    .dataframe tbody tr th {\n",
              "        vertical-align: top;\n",
              "    }\n",
              "\n",
              "    .dataframe thead th {\n",
              "        text-align: right;\n",
              "    }\n",
              "</style>\n",
              "<table border=\"1\" class=\"dataframe\">\n",
              "  <thead>\n",
              "    <tr style=\"text-align: right;\">\n",
              "      <th></th>\n",
              "      <th>Actual</th>\n",
              "      <th>Predicted</th>\n",
              "    </tr>\n",
              "  </thead>\n",
              "  <tbody>\n",
              "    <tr>\n",
              "      <th>0</th>\n",
              "      <td>60</td>\n",
              "      <td>56.08</td>\n",
              "    </tr>\n",
              "    <tr>\n",
              "      <th>1</th>\n",
              "      <td>81</td>\n",
              "      <td>83.34</td>\n",
              "    </tr>\n",
              "    <tr>\n",
              "      <th>2</th>\n",
              "      <td>21</td>\n",
              "      <td>26.87</td>\n",
              "    </tr>\n",
              "    <tr>\n",
              "      <th>3</th>\n",
              "      <td>30</td>\n",
              "      <td>26.87</td>\n",
              "    </tr>\n",
              "    <tr>\n",
              "      <th>4</th>\n",
              "      <td>24</td>\n",
              "      <td>21.03</td>\n",
              "    </tr>\n",
              "    <tr>\n",
              "      <th>5</th>\n",
              "      <td>62</td>\n",
              "      <td>59.97</td>\n",
              "    </tr>\n",
              "  </tbody>\n",
              "</table>\n",
              "</div>"
            ],
            "text/plain": [
              "   Actual  Predicted\n",
              "0      60      56.08\n",
              "1      81      83.34\n",
              "2      21      26.87\n",
              "3      30      26.87\n",
              "4      24      21.03\n",
              "5      62      59.97"
            ]
          },
          "metadata": {
            "tags": []
          },
          "execution_count": 772
        }
      ]
    },
    {
      "cell_type": "markdown",
      "metadata": {
        "id": "4icKLisIVMAx",
        "colab_type": "text"
      },
      "source": [
        "#Checking the Accuracy of ElasticNetCV Model"
      ]
    },
    {
      "cell_type": "code",
      "metadata": {
        "id": "4P_9QHVdU4RJ",
        "colab_type": "code",
        "colab": {
          "base_uri": "https://localhost:8080/",
          "height": 51
        },
        "outputId": "0aaf58fa-107b-435d-ec98-7a784039cf77"
      },
      "source": [
        "from sklearn.model_selection import cross_val_score\n",
        "accuracies = cross_val_score(estimator = ENReg, X = X_train, y = y_train, cv = 3)\n",
        "print(\"Accuracy: {} %\".format(accuracies.mean()*100))\n",
        "print(\"Standard Deviation: {} %\".format(accuracies.std()*100))"
      ],
      "execution_count": 773,
      "outputs": [
        {
          "output_type": "stream",
          "text": [
            "Accuracy: 93.52005168967875 %\n",
            "Standard Deviation: 2.09724214327077 %\n"
          ],
          "name": "stdout"
        }
      ]
    },
    {
      "cell_type": "markdown",
      "metadata": {
        "id": "b8GwLTiRVfnP",
        "colab_type": "text"
      },
      "source": [
        "#Checking the Mean Absolute Error and Root Mean Squared Error"
      ]
    },
    {
      "cell_type": "code",
      "metadata": {
        "id": "nSR9kOY6VgIP",
        "colab_type": "code",
        "colab": {
          "base_uri": "https://localhost:8080/",
          "height": 51
        },
        "outputId": "c6e92c7f-1aac-48bc-d6c7-be93969e7393"
      },
      "source": [
        "from sklearn.metrics import mean_absolute_error,mean_squared_error\n",
        "mae=mean_absolute_error(y_test, y_pred3)\n",
        "rmse=np.sqrt(mean_squared_error(y_test,y_pred3))\n",
        "print('Mean Absolute error in Linear Regression Model:  ',mae)\n",
        "print('Root Mean Squared Error in Linear Regression Model:  ',rmse)"
      ],
      "execution_count": 774,
      "outputs": [
        {
          "output_type": "stream",
          "text": [
            "Mean Absolute error in Linear Regression Model:   3.3764473243168767\n",
            "Root Mean Squared Error in Linear Regression Model:   3.6066077029901793\n"
          ],
          "name": "stdout"
        }
      ]
    },
    {
      "cell_type": "markdown",
      "metadata": {
        "id": "ofEgLUi_Vwyb",
        "colab_type": "text"
      },
      "source": [
        "# Visualising the Training Set Data on ElasticNetCV"
      ]
    },
    {
      "cell_type": "code",
      "metadata": {
        "id": "x7ptd8lFVkp3",
        "colab_type": "code",
        "colab": {
          "base_uri": "https://localhost:8080/",
          "height": 417
        },
        "outputId": "2360cf94-1201-492b-e217-c393325bdd6d"
      },
      "source": [
        "plt.figure(figsize=(12,6))\n",
        "plt.style.use('ggplot')\n",
        "plt.scatter(X_train, y_train, color = 'red')\n",
        "plt.plot(X_train, ENReg.predict(X_train), color = 'blue')\n",
        "plt.title('Hours vs Percentage(ElasticNetCV - Training Set)',fontdict={'fontsize':20})  \n",
        "plt.xlabel('Hours Studied',fontdict={'fontsize':18})  \n",
        "plt.ylabel('Percentage Score',fontdict={'fontsize':18})\n",
        "plt.show()"
      ],
      "execution_count": 775,
      "outputs": [
        {
          "output_type": "display_data",
          "data": {
            "image/png": "[encoded data removed]",
            "text/plain": [
              "<Figure size 864x432 with 1 Axes>"
            ]
          },
          "metadata": {
            "tags": []
          }
        }
      ]
    },
    {
      "cell_type": "markdown",
      "metadata": {
        "id": "SBaNc4mcWMUp",
        "colab_type": "text"
      },
      "source": [
        "# Visualising the Test Set Data on ElasticNetCV"
      ]
    },
    {
      "cell_type": "code",
      "metadata": {
        "id": "MEH9wvjoV7yZ",
        "colab_type": "code",
        "colab": {
          "base_uri": "https://localhost:8080/",
          "height": 417
        },
        "outputId": "dd4a9d90-a173-40a4-ad54-d6adfd53e08c"
      },
      "source": [
        "plt.figure(figsize=(12,6))\n",
        "plt.style.use('ggplot')\n",
        "plt.scatter(X_test, y_test, color = 'red')\n",
        "plt.plot(X_train, ENReg.predict(X_train), color = 'blue')\n",
        "plt.title('Hours vs Percentage(ElasticNetCV- Test Set)',fontdict={'fontsize':20})  \n",
        "plt.xlabel('Hours Studied',fontdict={'fontsize':18})  \n",
        "plt.ylabel('Percentage Score',fontdict={'fontsize':18})\n",
        "plt.show()"
      ],
      "execution_count": 776,
      "outputs": [
        {
          "output_type": "display_data",
          "data": {
            "image/png": "[encoded data removed]",
            "text/plain": [
              "<Figure size 864x432 with 1 Axes>"
            ]
          },
          "metadata": {
            "tags": []
          }
        }
      ]
    },
    {
      "cell_type": "markdown",
      "metadata": {
        "id": "A93HfNGvg6Pc",
        "colab_type": "text"
      },
      "source": [
        "#Testing user data on the above three Model"
      ]
    },
    {
      "cell_type": "code",
      "metadata": {
        "id": "-2PAEVZpWV5j",
        "colab_type": "code",
        "colab": {
          "base_uri": "https://localhost:8080/",
          "height": 102
        },
        "outputId": "6b8212e6-84cd-4831-8d21-2338edc96d2e"
      },
      "source": [
        "h = float(input(' Enter number of hours studied : '))\n",
        "pred1 = lin_reg.predict([[h]])\n",
        "pred2 = etreg.predict([[h]])\n",
        "pred3 = ENReg.predict([[h]])\n",
        "print(\"Number of Hours Studied = {}\".format(h))\n",
        "print(\"Predicted Score by Linear Regression Model = {}%\".format(pred1))\n",
        "print(\"Predicted Score by ExtraTreesRegressor Model = {}%\".format(pred2))\n",
        "print(\"Predicted Score ElasticNetCV Model = {}%\".format(pred3))"
      ],
      "execution_count": 777,
      "outputs": [
        {
          "output_type": "stream",
          "text": [
            " Enter number of hours studied : 9.25\n",
            "Number of Hours Studied = 9.25\n",
            "Predicted Score by Linear Regression Model = [93.01370653]%\n",
            "Predicted Score by ExtraTreesRegressor Model = [87.92]%\n",
            "Predicted Score ElasticNetCV Model = [92.58526951]%\n"
          ],
          "name": "stdout"
        }
      ]
    },
    {
      "cell_type": "markdown",
      "metadata": {
        "id": "pceR2GWWurRR",
        "colab_type": "text"
      },
      "source": [
        "#*** END ***"
      ]
    }
  ]
}